{
 "cells": [
  {
   "cell_type": "code",
   "execution_count": 41,
   "id": "2022e17e",
   "metadata": {},
   "outputs": [
    {
     "name": "stdout",
     "output_type": "stream",
     "text": [
      "first_pick=2, host_opn=3, second_pick=1, car=2\n",
      "first_pick=2, host_opn=1, second_pick=3, car=3\n",
      "first_pick=1, host_opn=3, second_pick=2, car=1\n",
      "first_pick=2, host_opn=3, second_pick=1, car=1\n",
      "first_pick=2, host_opn=1, second_pick=3, car=3\n",
      "Winning percentage of monty hall game when always switichin is 66.38\n",
      "first_pick=3, host_opn=2, second_pick=3, car=3\n",
      "first_pick=1, host_opn=2, second_pick=1, car=1\n",
      "first_pick=3, host_opn=1, second_pick=3, car=2\n",
      "first_pick=2, host_opn=3, second_pick=2, car=2\n",
      "first_pick=3, host_opn=2, second_pick=3, car=3\n",
      "Winning percentage of monty hall game when always without switiching is 33.85\n"
     ]
    }
   ],
   "source": [
    "import random\n",
    "num_games = 10000\n",
    "doors = [1, 2, 3]\n",
    "win_count = 0\n",
    "for i in range(num_games):\n",
    "    car = random.choice(doors)\n",
    "    #print(f\"Car is in door number : {car}\")\n",
    "    first_pick = random.choice(doors)\n",
    "    #print(f\"First pick is  door number :{first_pick}\")\n",
    "    host_can_opn = set(doors) - set([car, first_pick])\n",
    "    host_opn = random.choice(list(host_can_opn))\n",
    "    #print(f\"Host opened is  door number  {host_opn}\")\n",
    "    #remaining_option = set(doors) - set(host_opn) \n",
    "    #print(remaining_option)\n",
    "    second_pick = min(set(doors) - set([host_opn, first_pick]))\n",
    "    \n",
    "    #print(f\"Second pick door number is {second_pick[0]} \")\n",
    "    if i < 5:\n",
    "        print(f\"{first_pick=}, {host_opn=}, {second_pick=}, {car=}\" )\n",
    "    if second_pick == car:\n",
    "        win_count += 1\n",
    "    #print(win_count)\n",
    "\n",
    "win_percent = (win_count/num_games) * 100\n",
    "print(f\"Winning percentage of monty hall game when always switichin is {win_percent}\")\n",
    "\n",
    "\n",
    "win_count_without = 0\n",
    "for i in range(num_games):\n",
    "    car = random.choice(doors)\n",
    "    #print(f\"Car is in door number : {car}\")\n",
    "    first_pick = random.choice(doors)\n",
    "    #print(f\"First pick is  door number :{first_pick}\")\n",
    "    host_can_opn = set(doors) - set([car, first_pick])\n",
    "    host_opn = random.choice(list(host_can_opn))\n",
    "    second_pick = first_pick\n",
    "    #print(f\"Second pick door number is {second_pick[0]} \")\n",
    "    if i < 5:\n",
    "        print(f\"{first_pick=}, {host_opn=}, {second_pick=}, {car=}\" )\n",
    "    if second_pick == car:\n",
    "        win_count_without += 1\n",
    "    #print(win_count)\n",
    "\n",
    "win_percent = (win_count_without/num_games) * 100\n",
    "print(f\"Winning percentage of monty hall game when always without switiching is {win_percent}\")"
   ]
  }
 ],
 "metadata": {
  "kernelspec": {
   "display_name": "Python 3 (ipykernel)",
   "language": "python",
   "name": "python3"
  },
  "language_info": {
   "codemirror_mode": {
    "name": "ipython",
    "version": 3
   },
   "file_extension": ".py",
   "mimetype": "text/x-python",
   "name": "python",
   "nbconvert_exporter": "python",
   "pygments_lexer": "ipython3",
   "version": "3.8.4"
  }
 },
 "nbformat": 4,
 "nbformat_minor": 5
}
